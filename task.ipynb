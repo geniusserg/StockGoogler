{
 "cells": [
  {
   "cell_type": "code",
   "execution_count": 161,
   "metadata": {},
   "outputs": [],
   "source": [
    "import pandas as pd\n",
    "import numpy as np\n",
    "import matplotlib.pyplot as plt\n",
    "from sklearn.preprocessing import StandardScaler, MinMaxScaler\n",
    "from sklearn.model_selection import train_test_split\n",
    "from sklearn.metrics import mean_absolute_percentage_error, r2_score, mean_squared_error\n",
    "from keras.layers import LSTM, Input, Dense, Conv1D, Flatten, BatchNormalization, Dropout\n",
    "from keras.models import Sequential\n",
    "from sklearn.ensemble import RandomForestRegressor\n",
    "from sklearn.svm import SVC"
   ]
  },
  {
   "cell_type": "code",
   "execution_count": 162,
   "metadata": {},
   "outputs": [
    {
     "data": {
      "text/html": [
       "<div>\n",
       "<style scoped>\n",
       "    .dataframe tbody tr th:only-of-type {\n",
       "        vertical-align: middle;\n",
       "    }\n",
       "\n",
       "    .dataframe tbody tr th {\n",
       "        vertical-align: top;\n",
       "    }\n",
       "\n",
       "    .dataframe thead th {\n",
       "        text-align: right;\n",
       "    }\n",
       "</style>\n",
       "<table border=\"1\" class=\"dataframe\">\n",
       "  <thead>\n",
       "    <tr style=\"text-align: right;\">\n",
       "      <th></th>\n",
       "      <th>&lt;DATE&gt;</th>\n",
       "      <th>&lt;CLOSE&gt;</th>\n",
       "    </tr>\n",
       "  </thead>\n",
       "  <tbody>\n",
       "    <tr>\n",
       "      <th>0</th>\n",
       "      <td>2015-01-05</td>\n",
       "      <td>1435.66</td>\n",
       "    </tr>\n",
       "    <tr>\n",
       "      <th>1</th>\n",
       "      <td>2015-01-06</td>\n",
       "      <td>1480.73</td>\n",
       "    </tr>\n",
       "    <tr>\n",
       "      <th>2</th>\n",
       "      <td>2015-01-08</td>\n",
       "      <td>1547.39</td>\n",
       "    </tr>\n",
       "    <tr>\n",
       "      <th>3</th>\n",
       "      <td>2015-01-09</td>\n",
       "      <td>1515.37</td>\n",
       "    </tr>\n",
       "    <tr>\n",
       "      <th>4</th>\n",
       "      <td>2015-01-12</td>\n",
       "      <td>1513.22</td>\n",
       "    </tr>\n",
       "    <tr>\n",
       "      <th>...</th>\n",
       "      <td>...</td>\n",
       "      <td>...</td>\n",
       "    </tr>\n",
       "    <tr>\n",
       "      <th>1975</th>\n",
       "      <td>2022-11-28</td>\n",
       "      <td>2177.45</td>\n",
       "    </tr>\n",
       "    <tr>\n",
       "      <th>1976</th>\n",
       "      <td>2022-11-29</td>\n",
       "      <td>2185.32</td>\n",
       "    </tr>\n",
       "    <tr>\n",
       "      <th>1977</th>\n",
       "      <td>2022-11-30</td>\n",
       "      <td>2174.53</td>\n",
       "    </tr>\n",
       "    <tr>\n",
       "      <th>1978</th>\n",
       "      <td>2022-12-01</td>\n",
       "      <td>2187.29</td>\n",
       "    </tr>\n",
       "    <tr>\n",
       "      <th>1979</th>\n",
       "      <td>2022-12-02</td>\n",
       "      <td>2180.44</td>\n",
       "    </tr>\n",
       "  </tbody>\n",
       "</table>\n",
       "<p>1980 rows × 2 columns</p>\n",
       "</div>"
      ],
      "text/plain": [
       "         <DATE>  <CLOSE>\n",
       "0    2015-01-05  1435.66\n",
       "1    2015-01-06  1480.73\n",
       "2    2015-01-08  1547.39\n",
       "3    2015-01-09  1515.37\n",
       "4    2015-01-12  1513.22\n",
       "...         ...      ...\n",
       "1975 2022-11-28  2177.45\n",
       "1976 2022-11-29  2185.32\n",
       "1977 2022-11-30  2174.53\n",
       "1978 2022-12-01  2187.29\n",
       "1979 2022-12-02  2180.44\n",
       "\n",
       "[1980 rows x 2 columns]"
      ]
     },
     "execution_count": 162,
     "metadata": {},
     "output_type": "execute_result"
    }
   ],
   "source": [
    "df = pd.read_csv(\"IMOEX_150101_221201.csv\")\n",
    "df = df.drop([\"<TIME>\", \"<TICKER>\", \"<PER>\"], axis=1)\n",
    "df[\"<DATE>\"] = pd.to_datetime(df[\"<DATE>\"], format=\"%Y%m%d\")\n",
    "df"
   ]
  },
  {
   "cell_type": "code",
   "execution_count": 163,
   "metadata": {},
   "outputs": [
    {
     "data": {
      "text/plain": [
       "<matplotlib.legend.Legend at 0x2aa37753c70>"
      ]
     },
     "execution_count": 163,
     "metadata": {},
     "output_type": "execute_result"
    },
    {
     "data": {
      "image/png": "[encoded data removed]",
      "text/plain": [
       "<Figure size 432x288 with 1 Axes>"
      ]
     },
     "metadata": {
      "needs_background": "light"
     },
     "output_type": "display_data"
    }
   ],
   "source": [
    "plt.plot(df[\"<DATE>\"], df[\"<CLOSE>\"])\n",
    "plt.legend(\"Акции МосБиржи с 2021г.\")"
   ]
  },
  {
   "attachments": {},
   "cell_type": "markdown",
   "metadata": {},
   "source": [
    "Load data from Google trends"
   ]
  },
  {
   "cell_type": "code",
   "execution_count": 165,
   "metadata": {},
   "outputs": [
    {
     "data": {
      "text/html": [
       "<div>\n",
       "<style scoped>\n",
       "    .dataframe tbody tr th:only-of-type {\n",
       "        vertical-align: middle;\n",
       "    }\n",
       "\n",
       "    .dataframe tbody tr th {\n",
       "        vertical-align: top;\n",
       "    }\n",
       "\n",
       "    .dataframe thead th {\n",
       "        text-align: right;\n",
       "    }\n",
       "</style>\n",
       "<table border=\"1\" class=\"dataframe\">\n",
       "  <thead>\n",
       "    <tr style=\"text-align: right;\">\n",
       "      <th></th>\n",
       "      <th>Неделя</th>\n",
       "      <th>Акция: (Россия)</th>\n",
       "      <th>Экономические санкции: (Россия)</th>\n",
       "      <th>Правительство: (Россия)</th>\n",
       "      <th>Центральный банк: (Россия)</th>\n",
       "      <th>Инвестиция: (Россия)</th>\n",
       "    </tr>\n",
       "  </thead>\n",
       "  <tbody>\n",
       "    <tr>\n",
       "      <th>0</th>\n",
       "      <td>2015-01-04</td>\n",
       "      <td>27</td>\n",
       "      <td>41</td>\n",
       "      <td>0</td>\n",
       "      <td>0</td>\n",
       "      <td>0</td>\n",
       "    </tr>\n",
       "    <tr>\n",
       "      <th>1</th>\n",
       "      <td>2015-01-11</td>\n",
       "      <td>24</td>\n",
       "      <td>65</td>\n",
       "      <td>39</td>\n",
       "      <td>0</td>\n",
       "      <td>0</td>\n",
       "    </tr>\n",
       "    <tr>\n",
       "      <th>2</th>\n",
       "      <td>2015-01-18</td>\n",
       "      <td>25</td>\n",
       "      <td>92</td>\n",
       "      <td>36</td>\n",
       "      <td>0</td>\n",
       "      <td>0</td>\n",
       "    </tr>\n",
       "    <tr>\n",
       "      <th>3</th>\n",
       "      <td>2015-01-25</td>\n",
       "      <td>30</td>\n",
       "      <td>60</td>\n",
       "      <td>0</td>\n",
       "      <td>0</td>\n",
       "      <td>32</td>\n",
       "    </tr>\n",
       "    <tr>\n",
       "      <th>4</th>\n",
       "      <td>2015-02-01</td>\n",
       "      <td>0</td>\n",
       "      <td>35</td>\n",
       "      <td>0</td>\n",
       "      <td>0</td>\n",
       "      <td>0</td>\n",
       "    </tr>\n",
       "    <tr>\n",
       "      <th>...</th>\n",
       "      <td>...</td>\n",
       "      <td>...</td>\n",
       "      <td>...</td>\n",
       "      <td>...</td>\n",
       "      <td>...</td>\n",
       "      <td>...</td>\n",
       "    </tr>\n",
       "    <tr>\n",
       "      <th>45</th>\n",
       "      <td>2022-11-13</td>\n",
       "      <td>4</td>\n",
       "      <td>3</td>\n",
       "      <td>3</td>\n",
       "      <td>14</td>\n",
       "      <td>0</td>\n",
       "    </tr>\n",
       "    <tr>\n",
       "      <th>46</th>\n",
       "      <td>2022-11-20</td>\n",
       "      <td>7</td>\n",
       "      <td>10</td>\n",
       "      <td>0</td>\n",
       "      <td>0</td>\n",
       "      <td>0</td>\n",
       "    </tr>\n",
       "    <tr>\n",
       "      <th>47</th>\n",
       "      <td>2022-11-27</td>\n",
       "      <td>0</td>\n",
       "      <td>0</td>\n",
       "      <td>0</td>\n",
       "      <td>0</td>\n",
       "      <td>0</td>\n",
       "    </tr>\n",
       "    <tr>\n",
       "      <th>48</th>\n",
       "      <td>2022-12-04</td>\n",
       "      <td>4</td>\n",
       "      <td>9</td>\n",
       "      <td>0</td>\n",
       "      <td>5</td>\n",
       "      <td>4</td>\n",
       "    </tr>\n",
       "    <tr>\n",
       "      <th>49</th>\n",
       "      <td>2022-12-11</td>\n",
       "      <td>12</td>\n",
       "      <td>9</td>\n",
       "      <td>5</td>\n",
       "      <td>0</td>\n",
       "      <td>0</td>\n",
       "    </tr>\n",
       "  </tbody>\n",
       "</table>\n",
       "<p>415 rows × 6 columns</p>\n",
       "</div>"
      ],
      "text/plain": [
       "       Неделя  Акция: (Россия)  Экономические санкции: (Россия)  \\\n",
       "0  2015-01-04               27                               41   \n",
       "1  2015-01-11               24                               65   \n",
       "2  2015-01-18               25                               92   \n",
       "3  2015-01-25               30                               60   \n",
       "4  2015-02-01                0                               35   \n",
       "..        ...              ...                              ...   \n",
       "45 2022-11-13                4                                3   \n",
       "46 2022-11-20                7                               10   \n",
       "47 2022-11-27                0                                0   \n",
       "48 2022-12-04                4                                9   \n",
       "49 2022-12-11               12                                9   \n",
       "\n",
       "    Правительство: (Россия)  Центральный банк: (Россия)  Инвестиция: (Россия)  \n",
       "0                         0                           0                     0  \n",
       "1                        39                           0                     0  \n",
       "2                        36                           0                     0  \n",
       "3                         0                           0                    32  \n",
       "4                         0                           0                     0  \n",
       "..                      ...                         ...                   ...  \n",
       "45                        3                          14                     0  \n",
       "46                        0                           0                     0  \n",
       "47                        0                           0                     0  \n",
       "48                        0                           5                     4  \n",
       "49                        5                           0                     0  \n",
       "\n",
       "[415 rows x 6 columns]"
      ]
     },
     "execution_count": 165,
     "metadata": {},
     "output_type": "execute_result"
    }
   ],
   "source": [
    "df_group = pd.DataFrame()\n",
    "yrange = range(2015, 2023)\n",
    "prefix = \"_аспци\"\n",
    "for table in [f\"keywords//{n}{prefix}.csv\" for n in yrange]:\n",
    "    df_year = pd.read_csv(table, header=1)\n",
    "    df_year[\"Неделя\"] = pd.to_datetime(df_year[\"Неделя\"], format=\"%Y-%m-%d\")\n",
    "    df_group = pd.concat([df_group, df_year])\n",
    "df_group\n",
    "res = []\n",
    "for d in df.index:\n",
    "    trends_on_date = df_group[df_group[\"Неделя\"] < df.loc[d, \"<DATE>\"]].iloc[-1, 1:].values\n",
    "    res.append([df.loc[d, \"<DATE>\"], *trends_on_date, df.loc[d, \"<CLOSE>\"]])\n",
    "res = pd.DataFrame(res, columns = [\"Date\", *df_group.columns[1:], \"Price\"])\n",
    "res.to_csv(\"test.csv\")\n",
    "res = res.set_index(\"Date\")\n",
    "res"
   ]
  },
  {
   "cell_type": "code",
   "execution_count": 170,
   "metadata": {},
   "outputs": [
    {
     "data": {
      "text/html": [
       "<div>\n",
       "<style scoped>\n",
       "    .dataframe tbody tr th:only-of-type {\n",
       "        vertical-align: middle;\n",
       "    }\n",
       "\n",
       "    .dataframe tbody tr th {\n",
       "        vertical-align: top;\n",
       "    }\n",
       "\n",
       "    .dataframe thead th {\n",
       "        text-align: right;\n",
       "    }\n",
       "</style>\n",
       "<table border=\"1\" class=\"dataframe\">\n",
       "  <thead>\n",
       "    <tr style=\"text-align: right;\">\n",
       "      <th></th>\n",
       "      <th>Акция: (Россия)</th>\n",
       "      <th>Экономические санкции: (Россия)</th>\n",
       "      <th>Правительство: (Россия)</th>\n",
       "      <th>Центральный банк: (Россия)</th>\n",
       "      <th>Инвестиция: (Россия)</th>\n",
       "      <th>Price</th>\n",
       "    </tr>\n",
       "    <tr>\n",
       "      <th>Date</th>\n",
       "      <th></th>\n",
       "      <th></th>\n",
       "      <th></th>\n",
       "      <th></th>\n",
       "      <th></th>\n",
       "      <th></th>\n",
       "    </tr>\n",
       "  </thead>\n",
       "  <tbody>\n",
       "    <tr>\n",
       "      <th>2015-01-05</th>\n",
       "      <td>27</td>\n",
       "      <td>41</td>\n",
       "      <td>0</td>\n",
       "      <td>0</td>\n",
       "      <td>0</td>\n",
       "      <td>1435.66</td>\n",
       "    </tr>\n",
       "    <tr>\n",
       "      <th>2015-01-06</th>\n",
       "      <td>27</td>\n",
       "      <td>41</td>\n",
       "      <td>0</td>\n",
       "      <td>0</td>\n",
       "      <td>0</td>\n",
       "      <td>1480.73</td>\n",
       "    </tr>\n",
       "    <tr>\n",
       "      <th>2015-01-08</th>\n",
       "      <td>27</td>\n",
       "      <td>41</td>\n",
       "      <td>0</td>\n",
       "      <td>0</td>\n",
       "      <td>0</td>\n",
       "      <td>1547.39</td>\n",
       "    </tr>\n",
       "    <tr>\n",
       "      <th>2015-01-09</th>\n",
       "      <td>27</td>\n",
       "      <td>41</td>\n",
       "      <td>0</td>\n",
       "      <td>0</td>\n",
       "      <td>0</td>\n",
       "      <td>1515.37</td>\n",
       "    </tr>\n",
       "    <tr>\n",
       "      <th>2015-01-12</th>\n",
       "      <td>24</td>\n",
       "      <td>65</td>\n",
       "      <td>39</td>\n",
       "      <td>0</td>\n",
       "      <td>0</td>\n",
       "      <td>1513.22</td>\n",
       "    </tr>\n",
       "    <tr>\n",
       "      <th>...</th>\n",
       "      <td>...</td>\n",
       "      <td>...</td>\n",
       "      <td>...</td>\n",
       "      <td>...</td>\n",
       "      <td>...</td>\n",
       "      <td>...</td>\n",
       "    </tr>\n",
       "    <tr>\n",
       "      <th>2022-11-28</th>\n",
       "      <td>0</td>\n",
       "      <td>0</td>\n",
       "      <td>0</td>\n",
       "      <td>0</td>\n",
       "      <td>0</td>\n",
       "      <td>2177.45</td>\n",
       "    </tr>\n",
       "    <tr>\n",
       "      <th>2022-11-29</th>\n",
       "      <td>0</td>\n",
       "      <td>0</td>\n",
       "      <td>0</td>\n",
       "      <td>0</td>\n",
       "      <td>0</td>\n",
       "      <td>2185.32</td>\n",
       "    </tr>\n",
       "    <tr>\n",
       "      <th>2022-11-30</th>\n",
       "      <td>0</td>\n",
       "      <td>0</td>\n",
       "      <td>0</td>\n",
       "      <td>0</td>\n",
       "      <td>0</td>\n",
       "      <td>2174.53</td>\n",
       "    </tr>\n",
       "    <tr>\n",
       "      <th>2022-12-01</th>\n",
       "      <td>0</td>\n",
       "      <td>0</td>\n",
       "      <td>0</td>\n",
       "      <td>0</td>\n",
       "      <td>0</td>\n",
       "      <td>2187.29</td>\n",
       "    </tr>\n",
       "    <tr>\n",
       "      <th>2022-12-02</th>\n",
       "      <td>0</td>\n",
       "      <td>0</td>\n",
       "      <td>0</td>\n",
       "      <td>0</td>\n",
       "      <td>0</td>\n",
       "      <td>2180.44</td>\n",
       "    </tr>\n",
       "  </tbody>\n",
       "</table>\n",
       "<p>1980 rows × 6 columns</p>\n",
       "</div>"
      ],
      "text/plain": [
       "            Акция: (Россия)  Экономические санкции: (Россия)  \\\n",
       "Date                                                           \n",
       "2015-01-05               27                               41   \n",
       "2015-01-06               27                               41   \n",
       "2015-01-08               27                               41   \n",
       "2015-01-09               27                               41   \n",
       "2015-01-12               24                               65   \n",
       "...                     ...                              ...   \n",
       "2022-11-28                0                                0   \n",
       "2022-11-29                0                                0   \n",
       "2022-11-30                0                                0   \n",
       "2022-12-01                0                                0   \n",
       "2022-12-02                0                                0   \n",
       "\n",
       "            Правительство: (Россия)  Центральный банк: (Россия)  \\\n",
       "Date                                                              \n",
       "2015-01-05                        0                           0   \n",
       "2015-01-06                        0                           0   \n",
       "2015-01-08                        0                           0   \n",
       "2015-01-09                        0                           0   \n",
       "2015-01-12                       39                           0   \n",
       "...                             ...                         ...   \n",
       "2022-11-28                        0                           0   \n",
       "2022-11-29                        0                           0   \n",
       "2022-11-30                        0                           0   \n",
       "2022-12-01                        0                           0   \n",
       "2022-12-02                        0                           0   \n",
       "\n",
       "            Инвестиция: (Россия)    Price  \n",
       "Date                                       \n",
       "2015-01-05                     0  1435.66  \n",
       "2015-01-06                     0  1480.73  \n",
       "2015-01-08                     0  1547.39  \n",
       "2015-01-09                     0  1515.37  \n",
       "2015-01-12                     0  1513.22  \n",
       "...                          ...      ...  \n",
       "2022-11-28                     0  2177.45  \n",
       "2022-11-29                     0  2185.32  \n",
       "2022-11-30                     0  2174.53  \n",
       "2022-12-01                     0  2187.29  \n",
       "2022-12-02                     0  2180.44  \n",
       "\n",
       "[1980 rows x 6 columns]"
      ]
     },
     "execution_count": 170,
     "metadata": {},
     "output_type": "execute_result"
    }
   ],
   "source": [
    "res = []\n",
    "for d in df.index:\n",
    "    trends_on_date = df_group[df_group[\"Неделя\"] < df.loc[d, \"<DATE>\"]].iloc[-1, 1:].values\n",
    "    res.append([df.loc[d, \"<DATE>\"], *trends_on_date, df.loc[d, \"<CLOSE>\"]])\n",
    "res = pd.DataFrame(res, columns = [\"Date\", *df_group.columns[1:], \"Price\"])\n",
    "res.to_csv(\"test.csv\")\n",
    "res = res.set_index(\"Date\")\n",
    "res"
   ]
  },
  {
   "cell_type": "code",
   "execution_count": 171,
   "metadata": {},
   "outputs": [
    {
     "data": {
      "text/plain": [
       "array([[-0.02897274,  1.38288472, -0.671021  , -0.42264463, -0.63463548,\n",
       "        -1.57482296],\n",
       "       [-0.02897274,  1.38288472, -0.671021  , -0.42264463, -0.63463548,\n",
       "        -1.5065188 ],\n",
       "       [-0.02897274,  1.38288472, -0.671021  , -0.42264463, -0.63463548,\n",
       "        -1.40549471],\n",
       "       ...,\n",
       "       [-1.24952661, -0.68418546, -0.671021  , -0.42264463, -0.63463548,\n",
       "        -0.45505594],\n",
       "       [-1.24952661, -0.68418546, -0.671021  , -0.42264463, -0.63463548,\n",
       "        -0.435718  ],\n",
       "       [-1.24952661, -0.68418546, -0.671021  , -0.42264463, -0.63463548,\n",
       "        -0.44609926]])"
      ]
     },
     "execution_count": 171,
     "metadata": {},
     "output_type": "execute_result"
    }
   ],
   "source": [
    "scaler = StandardScaler()\n",
    "scaler = scaler.fit(res)\n",
    "pricedata_scaled = scaler.transform(res)\n",
    "pricedata_scaled"
   ]
  },
  {
   "attachments": {},
   "cell_type": "markdown",
   "metadata": {},
   "source": [
    "Построим матрицу корреляции"
   ]
  },
  {
   "cell_type": "code",
   "execution_count": 198,
   "metadata": {},
   "outputs": [
    {
     "data": {
      "text/html": [
       "<div>\n",
       "<style scoped>\n",
       "    .dataframe tbody tr th:only-of-type {\n",
       "        vertical-align: middle;\n",
       "    }\n",
       "\n",
       "    .dataframe tbody tr th {\n",
       "        vertical-align: top;\n",
       "    }\n",
       "\n",
       "    .dataframe thead th {\n",
       "        text-align: right;\n",
       "    }\n",
       "</style>\n",
       "<table border=\"1\" class=\"dataframe\">\n",
       "  <thead>\n",
       "    <tr style=\"text-align: right;\">\n",
       "      <th></th>\n",
       "      <th>Акция: (Россия)</th>\n",
       "      <th>Экономические санкции: (Россия)</th>\n",
       "      <th>Правительство: (Россия)</th>\n",
       "      <th>Центральный банк: (Россия)</th>\n",
       "      <th>Инвестиция: (Россия)</th>\n",
       "      <th>Price</th>\n",
       "    </tr>\n",
       "  </thead>\n",
       "  <tbody>\n",
       "    <tr>\n",
       "      <th>Акция: (Россия)</th>\n",
       "      <td>1.000000</td>\n",
       "      <td>0.069323</td>\n",
       "      <td>0.116341</td>\n",
       "      <td>0.150473</td>\n",
       "      <td>0.125459</td>\n",
       "      <td>0.210781</td>\n",
       "    </tr>\n",
       "    <tr>\n",
       "      <th>Экономические санкции: (Россия)</th>\n",
       "      <td>0.069323</td>\n",
       "      <td>1.000000</td>\n",
       "      <td>0.136212</td>\n",
       "      <td>0.082252</td>\n",
       "      <td>0.052661</td>\n",
       "      <td>-0.178249</td>\n",
       "    </tr>\n",
       "    <tr>\n",
       "      <th>Правительство: (Россия)</th>\n",
       "      <td>0.116341</td>\n",
       "      <td>0.136212</td>\n",
       "      <td>1.000000</td>\n",
       "      <td>0.008481</td>\n",
       "      <td>-0.064855</td>\n",
       "      <td>-0.144259</td>\n",
       "    </tr>\n",
       "    <tr>\n",
       "      <th>Центральный банк: (Россия)</th>\n",
       "      <td>0.150473</td>\n",
       "      <td>0.082252</td>\n",
       "      <td>0.008481</td>\n",
       "      <td>1.000000</td>\n",
       "      <td>0.017278</td>\n",
       "      <td>0.045170</td>\n",
       "    </tr>\n",
       "    <tr>\n",
       "      <th>Инвестиция: (Россия)</th>\n",
       "      <td>0.125459</td>\n",
       "      <td>0.052661</td>\n",
       "      <td>-0.064855</td>\n",
       "      <td>0.017278</td>\n",
       "      <td>1.000000</td>\n",
       "      <td>0.117072</td>\n",
       "    </tr>\n",
       "    <tr>\n",
       "      <th>Price</th>\n",
       "      <td>0.210781</td>\n",
       "      <td>-0.178249</td>\n",
       "      <td>-0.144259</td>\n",
       "      <td>0.045170</td>\n",
       "      <td>0.117072</td>\n",
       "      <td>1.000000</td>\n",
       "    </tr>\n",
       "  </tbody>\n",
       "</table>\n",
       "</div>"
      ],
      "text/plain": [
       "                                 Акция: (Россия)  \\\n",
       "Акция: (Россия)                         1.000000   \n",
       "Экономические санкции: (Россия)         0.069323   \n",
       "Правительство: (Россия)                 0.116341   \n",
       "Центральный банк: (Россия)              0.150473   \n",
       "Инвестиция: (Россия)                    0.125459   \n",
       "Price                                   0.210781   \n",
       "\n",
       "                                 Экономические санкции: (Россия)  \\\n",
       "Акция: (Россия)                                         0.069323   \n",
       "Экономические санкции: (Россия)                         1.000000   \n",
       "Правительство: (Россия)                                 0.136212   \n",
       "Центральный банк: (Россия)                              0.082252   \n",
       "Инвестиция: (Россия)                                    0.052661   \n",
       "Price                                                  -0.178249   \n",
       "\n",
       "                                 Правительство: (Россия)  \\\n",
       "Акция: (Россия)                                 0.116341   \n",
       "Экономические санкции: (Россия)                 0.136212   \n",
       "Правительство: (Россия)                         1.000000   \n",
       "Центральный банк: (Россия)                      0.008481   \n",
       "Инвестиция: (Россия)                           -0.064855   \n",
       "Price                                          -0.144259   \n",
       "\n",
       "                                 Центральный банк: (Россия)  \\\n",
       "Акция: (Россия)                                    0.150473   \n",
       "Экономические санкции: (Россия)                    0.082252   \n",
       "Правительство: (Россия)                            0.008481   \n",
       "Центральный банк: (Россия)                         1.000000   \n",
       "Инвестиция: (Россия)                               0.017278   \n",
       "Price                                              0.045170   \n",
       "\n",
       "                                 Инвестиция: (Россия)     Price  \n",
       "Акция: (Россия)                              0.125459  0.210781  \n",
       "Экономические санкции: (Россия)              0.052661 -0.178249  \n",
       "Правительство: (Россия)                     -0.064855 -0.144259  \n",
       "Центральный банк: (Россия)                   0.017278  0.045170  \n",
       "Инвестиция: (Россия)                         1.000000  0.117072  \n",
       "Price                                        0.117072  1.000000  "
      ]
     },
     "execution_count": 198,
     "metadata": {},
     "output_type": "execute_result"
    }
   ],
   "source": [
    "pd.DataFrame(pricedata_scaled, columns = [ *df_group.columns[1:], \"Price\"]).corr()"
   ]
  },
  {
   "attachments": {},
   "cell_type": "markdown",
   "metadata": {},
   "source": [
    "### Training\n",
    "\n",
    "Lets try to train model on that data"
   ]
  },
  {
   "attachments": {},
   "cell_type": "markdown",
   "metadata": {},
   "source": [
    "Split on train and test. X - trends and last prices, y - price after window"
   ]
  },
  {
   "cell_type": "code",
   "execution_count": 252,
   "metadata": {},
   "outputs": [
    {
     "name": "stdout",
     "output_type": "stream",
     "text": [
      "X shape (1458, 14, 6) test shape (508, 14, 6) y shape (1458,)\n"
     ]
    }
   ],
   "source": [
    "winsize = 14\n",
    "X = []\n",
    "y = []\n",
    "for i in range(pricedata_scaled.shape[0]-winsize):\n",
    "    X.append(pricedata_scaled[i:i+winsize])\n",
    "    y.append(pricedata_scaled[i+winsize, -1])\n",
    "X = np.array(X)\n",
    "y = np.array(y)\n",
    "tsplit_idx = int(len(X)*0.8)\n",
    "X_train, X_test, y_train, y_test = X[:1458], X[1458:], y[:1458], y[1458:]\n",
    "\n",
    "print(f\"X shape {X_train.shape} test shape {X_test.shape} y shape {y_train.shape}\")"
   ]
  },
  {
   "attachments": {},
   "cell_type": "markdown",
   "metadata": {},
   "source": [
    "We will use LSTM with 128 units"
   ]
  },
  {
   "cell_type": "code",
   "execution_count": 256,
   "metadata": {},
   "outputs": [
    {
     "data": {
      "image/png": "[encoded data removed]",
      "text/plain": [
       "<Figure size 432x288 with 1 Axes>"
      ]
     },
     "metadata": {
      "needs_background": "light"
     },
     "output_type": "display_data"
    },
    {
     "name": "stdout",
     "output_type": "stream",
     "text": [
      "16/16 [==============================] - 1s 11ms/step\n",
      "mAPE: 0.34193%\n",
      "MSE (scaled): 0.070199\n",
      "R2: 0.94\n"
     ]
    }
   ],
   "source": [
    "model = Sequential()\n",
    "param_num=X_train.shape[2]\n",
    "model.add(Input((winsize, param_num)))\n",
    "model.add(LSTM(128, return_sequences=True))\n",
    "model.add(LSTM(64, return_sequences=False))\n",
    "model.add(Dense(1, activation=\"linear\"))\n",
    "model.compile(metrics=\"mape\", loss=\"mse\")\n",
    "history = model.fit(X_train, y_train, validation_data=(X_test, y_test), epochs=20, verbose=0)\n",
    "\n",
    "plt.plot(history.history[\"val_mape\"], \"r-\")\n",
    "plt.plot(history.history[\"mape\"])\n",
    "plt.title(\"Validfation (mAPE metric)\")\n",
    "plt.legend([\"Validation\", \"Train\"])\n",
    "plt.show()\n",
    "y_pred = model.predict(X_test)\n",
    "print(f\"mAPE: {round(mean_absolute_percentage_error(y_true=y_test, y_pred=y_pred), 5)}%\")\n",
    "print(f\"MSE (scaled): {round(mean_squared_error(y_true=y_test, y_pred=y_pred), 6)}\")\n",
    "print(f\"R2: {round(r2_score(y_true=y_test, y_pred=y_pred), 2)}\")"
   ]
  },
  {
   "attachments": {},
   "cell_type": "markdown",
   "metadata": {},
   "source": [
    "Plot stock price real and presdicted by model"
   ]
  },
  {
   "cell_type": "code",
   "execution_count": 257,
   "metadata": {},
   "outputs": [
    {
     "data": {
      "image/png": "[encoded data removed]",
      "text/plain": [
       "<Figure size 432x288 with 1 Axes>"
      ]
     },
     "metadata": {
      "needs_background": "light"
     },
     "output_type": "display_data"
    }
   ],
   "source": [
    "plt.plot(y_pred, \"r\")\n",
    "plt.plot(y_test, \"b-\")\n",
    "plt.legend([\"Predicted\", \"real\"])\n",
    "plt.title(\"Real and Predicted stock prices\")\n",
    "plt.show()"
   ]
  },
  {
   "attachments": {},
   "cell_type": "markdown",
   "metadata": {},
   "source": [
    "But What if we will predict not price but the movement"
   ]
  },
  {
   "cell_type": "code",
   "execution_count": null,
   "metadata": {},
   "outputs": [],
   "source": []
  },
  {
   "attachments": {},
   "cell_type": "markdown",
   "metadata": {},
   "source": [
    "### Compare with only last prices"
   ]
  },
  {
   "cell_type": "code",
   "execution_count": 247,
   "metadata": {},
   "outputs": [
    {
     "name": "stdout",
     "output_type": "stream",
     "text": [
      "X shape (1474, 14, 1) test shape (492, 14, 1) y shape (1474,)\n"
     ]
    }
   ],
   "source": [
    "winsize = 14\n",
    "X = []\n",
    "y = []\n",
    "for i in range(pricedata_scaled.shape[0]-winsize):\n",
    "    X.append(pricedata_scaled[i:i+winsize, -1:])\n",
    "    y.append(pricedata_scaled[i+winsize, -1])\n",
    "X = np.array(X)\n",
    "y = np.array(y)\n",
    "tsplit_idx = int(len(X)*0.75)\n",
    "X_train, X_test, y_train, y_test = X[:tsplit_idx], X[tsplit_idx:], y[:tsplit_idx], y[tsplit_idx:]\n",
    "\n",
    "print(f\"X shape {X_train.shape} test shape {X_test.shape} y shape {y_train.shape}\")"
   ]
  },
  {
   "cell_type": "code",
   "execution_count": 248,
   "metadata": {},
   "outputs": [
    {
     "data": {
      "image/png": "[encoded data removed]",
      "text/plain": [
       "<Figure size 432x288 with 1 Axes>"
      ]
     },
     "metadata": {
      "needs_background": "light"
     },
     "output_type": "display_data"
    },
    {
     "name": "stdout",
     "output_type": "stream",
     "text": [
      "16/16 [==============================] - 0s 4ms/step\n",
      "mAPE: 0.33773%\n",
      "MSE (scaled): 0.012051\n",
      "R2: 0.99\n"
     ]
    }
   ],
   "source": [
    "model = Sequential()\n",
    "param_num=X_train.shape[2]\n",
    "model.add(Input((winsize, param_num)))\n",
    "model.add(LSTM(128, return_sequences=False))\n",
    "model.add(Dense(1, activation=\"linear\"))\n",
    "model.compile(metrics=\"mape\", loss=\"mse\")\n",
    "history = model.fit(X_train, y_train, validation_data=(X_test, y_test), epochs=20, verbose=0)\n",
    "\n",
    "plt.plot(history.history[\"val_mape\"], \"r-\")\n",
    "plt.plot(history.history[\"mape\"])\n",
    "plt.title(\"Validfation (mAPE metric)\")\n",
    "plt.legend([\"Validation\", \"Train\"])\n",
    "plt.show()\n",
    "y_pred = model.predict(X_test)\n",
    "print(f\"mAPE: {round(mean_absolute_percentage_error(y_true=y_test, y_pred=y_pred), 5)}%\")\n",
    "print(f\"MSE (scaled): {round(mean_squared_error(y_true=y_test, y_pred=y_pred), 6)}\")\n",
    "print(f\"R2: {round(r2_score(y_true=y_test, y_pred=y_pred), 2)}\")"
   ]
  },
  {
   "cell_type": "code",
   "execution_count": 251,
   "metadata": {},
   "outputs": [
    {
     "data": {
      "image/png": "[encoded data removed]",
      "text/plain": [
       "<Figure size 432x288 with 1 Axes>"
      ]
     },
     "metadata": {
      "needs_background": "light"
     },
     "output_type": "display_data"
    }
   ],
   "source": [
    "plt.plot(y_pred, \"r\")\n",
    "plt.plot(y_test, \"b-\")\n",
    "plt.legend([\"Predicted\", \"real\"])\n",
    "plt.title(\"Real and Predicted stock prices\")\n",
    "plt.show()"
   ]
  }
 ],
 "metadata": {
  "kernelspec": {
   "display_name": "Python 3",
   "language": "python",
   "name": "python3"
  },
  "language_info": {
   "codemirror_mode": {
    "name": "ipython",
    "version": 3
   },
   "file_extension": ".py",
   "mimetype": "text/x-python",
   "name": "python",
   "nbconvert_exporter": "python",
   "pygments_lexer": "ipython3",
   "version": "3.10.5"
  },
  "orig_nbformat": 4,
  "vscode": {
   "interpreter": {
    "hash": "369f2c481f4da34e4445cda3fffd2e751bd1c4d706f27375911949ba6bb62e1c"
   }
  }
 },
 "nbformat": 4,
 "nbformat_minor": 2
}
